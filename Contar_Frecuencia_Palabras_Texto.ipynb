{
 "cells": [
  {
   "cell_type": "code",
   "execution_count": null,
   "metadata": {},
   "outputs": [],
   "source": [
    "import re\n",
    "import string\n",
    "\n",
    "# Initializing a dictionary for cotaining the words and its frecuency\n",
    "d = {}\n",
    "Text = open(r'C:\\Users\\WAKU\\Documents\\ANTONIO_BOZA\\DATA_WAKU\\PLAN DE NEGOCIOS\\usuarios_a2.txt','r')\n",
    "# text_string = document_text.read().lower()\n",
    "\n",
    "Text = Text.read().lower()\n",
    "\n",
    "# Cleaning text and lower casing all words\n",
    "for char in '-.,\\n':\n",
    "    Text=Text.replace(char,' ')\n",
    "\n",
    "\n",
    "# split returns a list of words delimited by sequences of whitespace (including tabs, newlines, etc, like re's \\s) \n",
    "word_list = Text.split()\n",
    "\n",
    "# match_pattern = re.findall(r'b[a-z]{3,15}b', text_string)\n",
    "\n",
    "# counting number of times each word comes up in list of words (in dictionary)\n",
    "# Exclude words with length under 3 characters\n",
    "\n",
    "for word in word_list:\n",
    "    if len(word)>3:\n",
    "        d[word] = d.get(word, 0) + 1\n",
    "    else:\n",
    "        d[word] = d.get(word, 0)\n",
    "    \n",
    "# for word in match_pattern:\n",
    "#    count = frequency.get(word,0)\n",
    "#    frequency[word] = count + 1\n",
    "     \n",
    "# frequency_list = frequency.keys()\n",
    "\n",
    "word_freq = []\n",
    "for key, value in d.items():\n",
    "    word_freq.append((value, key))\n",
    "\n",
    "# for words in frequency_list:\n",
    "#    print(words, frequency[words])\n",
    "\n",
    "word_freq.sort(reverse=True) \n",
    "print(word_freq)"
   ]
  }
 ],
 "metadata": {
  "kernelspec": {
   "display_name": "Python 3",
   "language": "python",
   "name": "python3"
  },
  "language_info": {
   "codemirror_mode": {
    "name": "ipython",
    "version": 3
   },
   "file_extension": ".py",
   "mimetype": "text/x-python",
   "name": "python",
   "nbconvert_exporter": "python",
   "pygments_lexer": "ipython3",
   "version": "3.7.4"
  }
 },
 "nbformat": 4,
 "nbformat_minor": 2
}
